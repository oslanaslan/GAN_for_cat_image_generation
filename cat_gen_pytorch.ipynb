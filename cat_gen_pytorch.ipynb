{
 "cells": [
  {
   "cell_type": "markdown",
   "source": [
    "## Создание изображений с помощью генеративно-состязательных нейронных сетей"
   ],
   "metadata": {}
  },
  {
   "cell_type": "markdown",
   "source": [
    "### Общая информация\n",
    "\n",
    "**Используемые пакеты:**\n",
    "- torch\n",
    "- torchvision\n",
    "- numpy\n",
    "- matplotlib.pyplot\n",
    "- scipy\n",
    "- pytorch_fid\n",
    "- tqdm\n",
    "- os\n",
    "- glob\n",
    "- random\n",
    "\n",
    "**Структура файловой системы:**\n",
    "\n",
    "GAN\n",
    "\n",
    "-main.ipynb\n",
    "\n",
    "-lib\n",
    "\n",
    "--CatGAN.py\n",
    "\n",
    "--Discriminator.py\n",
    "\n",
    "--Generator.py\n",
    "\n",
    "--main.py\n",
    "\n",
    "-data\n",
    "\n",
    "--cats\n",
    "\n",
    "---gan_cats - сгенерированные изображения \n",
    "\n",
    "---grid - грид для сравнения реальных и сгенерированных изображений\n",
    "\n",
    "---models - папка с моделями\n",
    "\n",
    "---real_cats\n",
    "\n",
    "----real_cats - папка с реальными котами\n",
    "\n",
    "**Основные методы класса *CatGan*:**\n",
    "- *loadData* - загрузка данных. Подгружает реальные изображения из папки. Необходимо выполнить перед обучением модели\n",
    "- *train* - основной цикл обучения. Возвращает *img_list* - список сгенерированных изображений для создания grid, *G_losses*, *D_losses* - список значений loss-функций\n",
    "- *loadModel* - загрузить обученную модель\n",
    "- *fidScore* - расчитать значение FID\n",
    "\n",
    "**Структура класса *CatGan*:**\n",
    "- *loadData* - загрузка данных\n",
    "- *plotRealImageGrid* - показываем часть изображений из датасета\n",
    "- *weights_init* - инициализация весов\n",
    "- *plotRes* - рисует grid с реальными и сгенерированными изображениями. Используется для контроля качества обучения\n",
    "- *plotLoss* - график Loss-функций\n",
    "- *train*  - цикл обучения\n",
    "- *createGenerator* - создание генератора\n",
    "- *createDiscriminator* - создание дискриминатора\n",
    "- *saveModel* - сохранить предобученную модель\n",
    "- *loadModel* - загрузить обученную модель \n",
    "- *getGenImg* - сгенерировать изображения \n",
    "- *getRealImg* - возвращает список с реальными изображениями \n",
    "- *clearDir* - удалить все файлы в папке со сгенерированными изображениями\n",
    "- *fidScore* - расчет FID-метрики\n"
   ],
   "metadata": {}
  },
  {
   "cell_type": "markdown",
   "source": [
    "### Импорт класса с кодом"
   ],
   "metadata": {}
  },
  {
   "cell_type": "code",
   "execution_count": 1,
   "source": [
    "from lib.CatGAN import CatGan"
   ],
   "outputs": [],
   "metadata": {}
  },
  {
   "cell_type": "markdown",
   "source": [
    "### Загрузка модели \n",
    "\n",
    "В папке data/cats/models сохранены нескольк обученных моделей.  Наилучший результат FID показывает модель *GAN_torch_ngf=80_epoch=200_lr=5e-05_beta=0.2_fid=35.pth*. Модель стабильно показывает результат FID в диапазоне 32-36."
   ],
   "metadata": {}
  },
  {
   "cell_type": "code",
   "execution_count": null,
   "source": [
    "gan = CatGan()\n",
    "gan.loadData()\n",
    "# res = gan.loadModel('GAN_torch_ngf=80_epoch=200_lr=5e-05_beta=0.2_fid=35.pth')"
   ],
   "outputs": [],
   "metadata": {}
  },
  {
   "cell_type": "markdown",
   "source": [
    "### Сгенерировать изображения \n",
    "Запустить ячейку, чтобы сгенерировать изображения и посчитать FID"
   ],
   "metadata": {}
  },
  {
   "cell_type": "code",
   "execution_count": null,
   "source": [
    "gan.getGenImg(show=False, count=10000)\n",
    "gan.fidScore(show=False, gen=False)"
   ],
   "outputs": [
    {
     "output_type": "stream",
     "name": "stdout",
     "text": [
      "Start FID score\n"
     ]
    },
    {
     "output_type": "stream",
     "name": "stderr",
     "text": [
      "100%|██████████| 124/124 [00:42<00:00,  2.92it/s]\n",
      "100%|██████████| 79/79 [00:27<00:00,  2.91it/s]\n"
     ]
    },
    {
     "output_type": "execute_result",
     "data": {
      "text/plain": [
       "26.059283165755062"
      ]
     },
     "metadata": {},
     "execution_count": 3
    }
   ],
   "metadata": {
    "collapsed": true
   }
  },
  {
   "cell_type": "markdown",
   "source": [
    "### Цикл обучения\n",
    "Обучал по 50 эпох, каждые 50 эпох рассчитывал FID каждые 50 эпох, выводил график FID и сетку с реальными и сгенерированными изображениями"
   ],
   "metadata": {}
  },
  {
   "cell_type": "code",
   "execution_count": null,
   "source": [
    "loop_num = 3\n",
    "epoch_num_per_loop = 50\n",
    "\n",
    "for i in range(loop_num):\n",
    "    img_list, G_losses, D_losses = gan.train(epoch_num_per_loop)\n",
    "    gan.plotRes(img_list)\n",
    "    print(gan.fidScore(pic_num=1000))\n",
    "    gan.saveModel()"
   ],
   "outputs": [],
   "metadata": {
    "collapsed": true
   }
  }
 ],
 "metadata": {
  "kernelspec": {
   "name": "python3",
   "display_name": "Python 3.8.8 64-bit ('ml_env': conda)"
  },
  "language_info": {
   "codemirror_mode": {
    "name": "ipython",
    "version": 3
   },
   "file_extension": ".py",
   "mimetype": "text/x-python",
   "name": "python",
   "nbconvert_exporter": "python",
   "pygments_lexer": "ipython3",
   "version": "3.8.8"
  },
  "interpreter": {
   "hash": "6ad84415874a6598514d930fba469c94c42d2b4586edab0408951ee2bb32516e"
  }
 },
 "nbformat": 4,
 "nbformat_minor": 4
}