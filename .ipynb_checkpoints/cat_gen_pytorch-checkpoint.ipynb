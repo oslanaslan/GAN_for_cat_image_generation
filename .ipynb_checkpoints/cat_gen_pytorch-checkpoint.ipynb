{
 "cells": [
  {
   "cell_type": "markdown",
   "metadata": {},
   "source": [
    "## Создание изображений с помощью генеративно-состязательных нейронных сетей"
   ]
  },
  {
   "cell_type": "markdown",
   "metadata": {},
   "source": [
    "### Общая информация\n",
    "\n",
    "**Используемые пакеты:**\n",
    "- torch\n",
    "- torchvision\n",
    "- numpy\n",
    "- matplotlib.pyplot\n",
    "- scipy\n",
    "- pytorch_fid\n",
    "- tqdm\n",
    "- os\n",
    "- glob\n",
    "- random\n",
    "\n",
    "**Структура файловой системы:**\n",
    "\n",
    "GAN\n",
    "\n",
    "-main.ipynb\n",
    "\n",
    "-src\n",
    "\n",
    "--CatGAN.py\n",
    "\n",
    "--Discriminator.py\n",
    "\n",
    "--Generator.py\n",
    "\n",
    "--main.py\n",
    "\n",
    "-data\n",
    "\n",
    "--cats\n",
    "\n",
    "---gan_cats - сгенерированные изображения \n",
    "\n",
    "---grid - грид для сравнения реальных и сгенерированных изображений\n",
    "\n",
    "---models - папка с моделями\n",
    "\n",
    "---real_cats\n",
    "\n",
    "----real_cats - папка с реальными котами\n",
    "\n",
    "**Основные методы класса *CatGan*:**\n",
    "- *loadData* - загрузка данных. Подгружает реальные изображения из папки. Необходимо выполнить перед обучением модели\n",
    "- *train* - основной цикл обучения. Возвращает *img_list* - список сгенерированных изображений для создания grid, *G_losses*, *D_losses* - список значений loss-функций\n",
    "- *loadModel* - загрузить обученную модель\n",
    "- *fidScore* - расчитать значение FID\n",
    "\n",
    "**Структура класса *CatGan*:**\n",
    "- *loadData* - загрузка данных\n",
    "- *plotRealImageGrid* - показываем часть изображений из датасета\n",
    "- *weights_init* - инициализация весов\n",
    "- *plotRes* - рисует grid с реальными и сгенерированными изображениями. Используется для контроля качества обучения\n",
    "- *plotLoss* - график Loss-функций\n",
    "- *train*  - цикл обучения\n",
    "- *createGenerator* - создание генератора\n",
    "- *createDiscriminator* - создание дискриминатора\n",
    "- *saveModel* - сохранить предобученную модель\n",
    "- *loadModel* - загрузить обученную модель \n",
    "- *getGenImg* - сгенерировать изображения \n",
    "- *getRealImg* - возвращает список с реальными изображениями \n",
    "- *clearDir* - удалить все файлы в папке со сгенерированными изображениями\n",
    "- *fidScore* - расчет FID-метрики\n"
   ]
  },
  {
   "cell_type": "markdown",
   "metadata": {},
   "source": [
    "### Импорт класса с кодом"
   ]
  },
  {
   "cell_type": "code",
   "execution_count": null,
   "metadata": {},
   "outputs": [],
   "source": [
    "from src.CatGAN import CatGan"
   ]
  },
  {
   "cell_type": "markdown",
   "metadata": {},
   "source": [
    "### Загрузка модели \n",
    "\n",
    "В папке data/cats/models сохранены нескольк обученных моделей.  Наилучший результат FID показывает модель *GAN_torch_ngf=80_epoch=200_lr=5e-05_beta=0.2_fid=35.pth*. Модель стабильно показывает результат FID в диапазоне 32-36."
   ]
  },
  {
   "cell_type": "code",
   "execution_count": null,
   "metadata": {},
   "outputs": [],
   "source": [
    "gan = CatGan()\n",
    "gan.loadData()\n",
    "# res = gan.loadModel('GAN_torch_ngf=80_epoch=200_lr=5e-05_beta=0.2_fid=35.pth')"
   ]
  },
  {
   "cell_type": "markdown",
   "metadata": {},
   "source": [
    "### Сгенерировать изображения \n",
    "Запустить ячейку, чтобы сгенерировать изображения и посчитать FID"
   ]
  },
  {
   "cell_type": "code",
   "execution_count": null,
   "metadata": {},
   "outputs": [],
   "source": [
    "gan.getGenImg(show=False, count=10000)\n",
    "gan.fidScore(show=False, gen=False)"
   ]
  },
  {
   "cell_type": "markdown",
   "metadata": {},
   "source": [
    "### Цикл обучения\n",
    "Обучал по 50 эпох, каждые 50 эпох рассчитывал FID каждые 50 эпох, выводил график FID и сетку с реальными и сгенерированными изображениями"
   ]
  },
  {
   "cell_type": "code",
   "execution_count": null,
   "metadata": {
    "tags": []
   },
   "outputs": [],
   "source": [
    "loop_num = 3\n",
    "epoch_num_per_loop = 50\n",
    "\n",
    "for i in range(loop_num):\n",
    "    img_list, G_losses, D_losses = gan.train(epoch_num_per_loop)\n",
    "    gan.plotRes(img_list)\n",
    "    print(gan.fidScore(pic_num=1000))\n",
    "    gan.saveModel()"
   ]
  }
 ],
 "metadata": {
  "interpreter": {
   "hash": "6ad84415874a6598514d930fba469c94c42d2b4586edab0408951ee2bb32516e"
  },
  "kernelspec": {
   "display_name": "Python 3",
   "language": "python",
   "name": "python3"
  },
  "language_info": {
   "codemirror_mode": {
    "name": "ipython",
    "version": 3
   },
   "file_extension": ".py",
   "mimetype": "text/x-python",
   "name": "python",
   "nbconvert_exporter": "python",
   "pygments_lexer": "ipython3",
   "version": "3.6.15"
  }
 },
 "nbformat": 4,
 "nbformat_minor": 4
}
